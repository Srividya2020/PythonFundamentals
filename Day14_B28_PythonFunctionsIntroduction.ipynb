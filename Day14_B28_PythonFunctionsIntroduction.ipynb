{
 "cells": [
  {
   "cell_type": "code",
   "execution_count": 1,
   "metadata": {},
   "outputs": [],
   "source": [
    "## Functions are blocked of code that are designed to execute a specific set of code repeatedly to ensure reusability ##"
   ]
  },
  {
   "cell_type": "code",
   "execution_count": 4,
   "metadata": {},
   "outputs": [
    {
     "name": "stdout",
     "output_type": "stream",
     "text": [
      "\n",
      " Hello! Have a great day\n"
     ]
    }
   ],
   "source": [
    "def greet_user(): ## Function Definition ##\n",
    "    \"\"\"Diplay a simple Greeting\"\"\" ## Doc string\n",
    "    print(f\"\\n Hello! Have a great day\")\n",
    "\n",
    "greet_user() ## Function Call ##"
   ]
  },
  {
   "cell_type": "code",
   "execution_count": 5,
   "metadata": {},
   "outputs": [],
   "source": [
    "## Introduction to parameters in Functions ##"
   ]
  },
  {
   "cell_type": "code",
   "execution_count": 12,
   "metadata": {},
   "outputs": [
    {
     "name": "stdout",
     "output_type": "stream",
     "text": [
      "\n",
      " Hello, Srividya! Have a great day\n"
     ]
    }
   ],
   "source": [
    "def greet_user(user): \n",
    "    \"\"\"Diplay a simple Greeting\"\"\" ## Doc string\n",
    "    print(f\"\\n Hello, {user.title()}! Have a great day\")\n",
    "\n",
    "greet_user('srividya')"
   ]
  },
  {
   "cell_type": "code",
   "execution_count": 13,
   "metadata": {},
   "outputs": [],
   "source": [
    "## Types of Arguments in a function ##\n",
    "\n",
    "1. Positional Arguments\n",
    "2. Keyword Arguments\n",
    "3. Default Arguments ##"
   ]
  },
  {
   "cell_type": "code",
   "execution_count": 15,
   "metadata": {},
   "outputs": [
    {
     "name": "stdout",
     "output_type": "stream",
     "text": [
      "\n",
      " Hello Sri!\n",
      "\n",
      " Your favourite language is Python!\n"
     ]
    }
   ],
   "source": [
    "## Example of Positional Arguments ##\n",
    "\n",
    "def fav_language(User_Name, lang):\n",
    "    \"\"\"Diplay the voting eligibility based on age\"\"\"\n",
    "    print(f\"\\n Hello {User_Name.title()}!\")\n",
    "    print(f\"\\n Your favourite language is {lang.title()}!\")\n",
    "\n",
    "fav_language('Sri','Python') ## Positional Auguments and order of the arguments cannot be changed. \n",
    "                                ##If changed, program doesnt give meaningful output ##"
   ]
  },
  {
   "cell_type": "code",
   "execution_count": 16,
   "metadata": {},
   "outputs": [
    {
     "name": "stdout",
     "output_type": "stream",
     "text": [
      "\n",
      " Hello Python!\n",
      "\n",
      " Your favourite language is Sri!\n"
     ]
    }
   ],
   "source": [
    "## Example of Positional Arguments with interchanged arguments position ##\n",
    "\n",
    "\n",
    "def fav_language(User_Name, lang):\n",
    "    \"\"\"Diplay the voting eligibility based on age\"\"\"\n",
    "    print(f\"\\n Hello {User_Name.title()}!\")\n",
    "    print(f\"\\n Your favourite language is {lang.title()}!\")\n",
    "\n",
    "fav_language('Python','Sri') ## the parameters are changed and the output becomes less meaningful##"
   ]
  },
  {
   "cell_type": "code",
   "execution_count": 17,
   "metadata": {},
   "outputs": [],
   "source": [
    "## Key word arguments are those that enables user to give input in any order by specifying the parameter value along ##"
   ]
  },
  {
   "cell_type": "code",
   "execution_count": 19,
   "metadata": {},
   "outputs": [
    {
     "name": "stdout",
     "output_type": "stream",
     "text": [
      "\n",
      " Hello Sri!\n",
      "\n",
      " Your favourite language is Python!\n"
     ]
    }
   ],
   "source": [
    "## 2. Example of Keyword Argument##\n",
    "\n",
    "def fav_language(User_Name, lang):\n",
    "    \"\"\"Diplay the voting eligibility based on age\"\"\"\n",
    "    print(f\"\\n Hello {User_Name.title()}!\")\n",
    "    print(f\"\\n Your favourite language is {lang.title()}!\")\n",
    "\n",
    "fav_language(lang='Python',User_Name='Sri')\n",
    "\n",
    "##Even though the order of the values are interchanged,the output is correct as the parameter name is specified in fuction call##"
   ]
  },
  {
   "cell_type": "code",
   "execution_count": 22,
   "metadata": {},
   "outputs": [
    {
     "name": "stdout",
     "output_type": "stream",
     "text": [
      "\n",
      " Hello Sri!\n",
      "\n",
      " Your favourite language is Python!\n"
     ]
    }
   ],
   "source": [
    "## 3. Example of Default Arguments ##\n",
    "\n",
    "## Default arguments are those that takes default values at function definition ##\n",
    "## They needs not be given values at function call. If no value is specified at function call, then default value is taken##\n",
    "## Default aguments are always declated at the last ##\n",
    "## Default value will be taken only when this value is missing during the call. Else, value given in the call is taken##\n",
    "\n",
    "def fav_language(User_Name, lang='.Net'):\n",
    "    \"\"\"Diplay the voting eligibility based on age\"\"\"\n",
    "    print(f\"\\n Hello {User_Name.title()}!\")\n",
    "    print(f\"\\n Your favourite language is {lang.title()}!\")\n",
    "\n",
    "fav_language(lang='Python',User_Name='Sri')\n",
    "\n",
    "## Here the value for 'Lang is overridden in the function call and hence default value is not taken'"
   ]
  },
  {
   "cell_type": "code",
   "execution_count": 23,
   "metadata": {},
   "outputs": [
    {
     "name": "stdout",
     "output_type": "stream",
     "text": [
      "\n",
      " Hello Sri!\n",
      "\n",
      " Your favourite language is .Net!\n"
     ]
    }
   ],
   "source": [
    "def fav_language(User_Name, lang='.Net'):\n",
    "    \"\"\"Diplay the voting eligibility based on age\"\"\"\n",
    "    print(f\"\\n Hello {User_Name.title()}!\")\n",
    "    print(f\"\\n Your favourite language is {lang.title()}!\")\n",
    "\n",
    "fav_language(User_Name='Sri')\n",
    "\n",
    "## Here the value for 'Lang' is not specified and hence the default value given during declaration is taken ##"
   ]
  },
  {
   "cell_type": "code",
   "execution_count": 24,
   "metadata": {},
   "outputs": [
    {
     "ename": "SyntaxError",
     "evalue": "non-default argument follows default argument (<ipython-input-24-f205b61011da>, line 1)",
     "output_type": "error",
     "traceback": [
      "\u001b[1;36m  File \u001b[1;32m\"<ipython-input-24-f205b61011da>\"\u001b[1;36m, line \u001b[1;32m1\u001b[0m\n\u001b[1;33m    def fav_language(lang='.Net',User_Name,):\u001b[0m\n\u001b[1;37m                     ^\u001b[0m\n\u001b[1;31mSyntaxError\u001b[0m\u001b[1;31m:\u001b[0m non-default argument follows default argument\n"
     ]
    }
   ],
   "source": [
    "def fav_language(lang='.Net',User_Name,):\n",
    "    \"\"\"Diplay the voting eligibility based on age\"\"\"\n",
    "    print(f\"\\n Hello {User_Name.title()}!\")\n",
    "    print(f\"\\n Your favourite language is {lang.title()}!\")\n",
    "\n",
    "fav_language(User_Name='Sri')\n",
    "\n",
    "## Throws error as default value arguments are given in the last during the function declaration ##"
   ]
  },
  {
   "cell_type": "code",
   "execution_count": null,
   "metadata": {},
   "outputs": [],
   "source": [
    "## End of Day 14 ##"
   ]
  }
 ],
 "metadata": {
  "kernelspec": {
   "display_name": "Python 3",
   "language": "python",
   "name": "python3"
  },
  "language_info": {
   "codemirror_mode": {
    "name": "ipython",
    "version": 3
   },
   "file_extension": ".py",
   "mimetype": "text/x-python",
   "name": "python",
   "nbconvert_exporter": "python",
   "pygments_lexer": "ipython3",
   "version": "3.8.3"
  }
 },
 "nbformat": 4,
 "nbformat_minor": 4
}
