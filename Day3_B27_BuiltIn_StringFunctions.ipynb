{
 "cells": [
  {
   "cell_type": "code",
   "execution_count": 1,
   "metadata": {},
   "outputs": [],
   "source": [
    "## Understanding Built-in String functions ##"
   ]
  },
  {
   "cell_type": "code",
   "execution_count": 2,
   "metadata": {},
   "outputs": [],
   "source": [
    "name='understanding python'"
   ]
  },
  {
   "cell_type": "code",
   "execution_count": 3,
   "metadata": {},
   "outputs": [
    {
     "name": "stdout",
     "output_type": "stream",
     "text": [
      "Understanding Python\n"
     ]
    }
   ],
   "source": [
    "print(name.title()) ## Command to convert string into Camel Casing##"
   ]
  },
  {
   "cell_type": "code",
   "execution_count": 4,
   "metadata": {},
   "outputs": [
    {
     "name": "stdout",
     "output_type": "stream",
     "text": [
      "UNDERSTANDING PYTHON\n"
     ]
    }
   ],
   "source": [
    "print(name.upper()) # Command to convert string into upper case ##"
   ]
  },
  {
   "cell_type": "code",
   "execution_count": 5,
   "metadata": {},
   "outputs": [
    {
     "name": "stdout",
     "output_type": "stream",
     "text": [
      "understanding python\n"
     ]
    }
   ],
   "source": [
    "print(name.lower())# command to convert string into lower case ##"
   ]
  },
  {
   "cell_type": "code",
   "execution_count": 6,
   "metadata": {},
   "outputs": [],
   "source": [
    "## Introduction to f strings ##"
   ]
  },
  {
   "cell_type": "code",
   "execution_count": 8,
   "metadata": {},
   "outputs": [],
   "source": [
    "# General Syntax to declare f strings is as below : ##\n",
    "## f \"{<variable1}{variable2}{variable3}... {variablen}\" ##"
   ]
  },
  {
   "cell_type": "code",
   "execution_count": 9,
   "metadata": {},
   "outputs": [],
   "source": [
    "variable1=\"underStanding\"\n",
    "variable2=\"python\""
   ]
  },
  {
   "cell_type": "code",
   "execution_count": 11,
   "metadata": {},
   "outputs": [],
   "source": [
    "variable3=f\"{variable1}{variable2}\" #Declaring f string#"
   ]
  },
  {
   "cell_type": "code",
   "execution_count": 12,
   "metadata": {},
   "outputs": [
    {
     "name": "stdout",
     "output_type": "stream",
     "text": [
      "underStandingpython\n"
     ]
    }
   ],
   "source": [
    "print(variable3)  #printing f variable#"
   ]
  },
  {
   "cell_type": "code",
   "execution_count": 13,
   "metadata": {},
   "outputs": [
    {
     "name": "stdout",
     "output_type": "stream",
     "text": [
      "Understandingpython\n"
     ]
    }
   ],
   "source": [
    "print(variable3.title()) # Format string using camel casing #"
   ]
  },
  {
   "cell_type": "code",
   "execution_count": 15,
   "metadata": {},
   "outputs": [
    {
     "name": "stdout",
     "output_type": "stream",
     "text": [
      "Hello! I'm, Understandingpython \n"
     ]
    }
   ],
   "source": [
    "print(f\"Hello! I'm, {variable3.title()} \") # Requirement to add strings to existing f string variables#"
   ]
  },
  {
   "cell_type": "code",
   "execution_count": 16,
   "metadata": {},
   "outputs": [],
   "source": [
    "# Adding new line delimiter and tab delimiter to the strings#"
   ]
  },
  {
   "cell_type": "code",
   "execution_count": 18,
   "metadata": {},
   "outputs": [
    {
     "name": "stdout",
     "output_type": "stream",
     "text": [
      "Trending_topics:PythonMachineLanguageDataScienceArtificalIteglligenceDataScientist\n"
     ]
    }
   ],
   "source": [
    "print('Trending_topics:PythonMachineLanguageDataScienceArtificalIteglligenceDataScientist')"
   ]
  },
  {
   "cell_type": "code",
   "execution_count": null,
   "metadata": {},
   "outputs": [],
   "source": [
    "#Add new line delimier \\n to the variables for better formatting#"
   ]
  },
  {
   "cell_type": "code",
   "execution_count": 19,
   "metadata": {},
   "outputs": [
    {
     "name": "stdout",
     "output_type": "stream",
     "text": [
      "Trending_topics:\n",
      "Python\n",
      "MachineLanguage\n",
      "DataScience\n",
      "ArtificalIteglligence\n",
      "DataScientist\n"
     ]
    }
   ],
   "source": [
    "print('Trending_topics:\\nPython\\nMachineLanguage\\nDataScience\\nArtificalIteglligence\\nDataScientist')"
   ]
  },
  {
   "cell_type": "code",
   "execution_count": 20,
   "metadata": {},
   "outputs": [],
   "source": [
    "# Add tab limiter \\t to the variables for better formatting#"
   ]
  },
  {
   "cell_type": "code",
   "execution_count": 21,
   "metadata": {},
   "outputs": [
    {
     "name": "stdout",
     "output_type": "stream",
     "text": [
      "Trending_topics:\n",
      "\tPython\n",
      "\tMachineLanguage\n",
      "\tDataScience\n",
      "\tArtificalIteglligence\n",
      "\tDataScientist\n"
     ]
    }
   ],
   "source": [
    "print('Trending_topics:\\n\\tPython\\n\\tMachineLanguage\\n\\tDataScience\\n\\tArtificalIteglligence\\n\\tDataScientist')"
   ]
  },
  {
   "cell_type": "code",
   "execution_count": null,
   "metadata": {},
   "outputs": [],
   "source": [
    "###### End of Day 3 ####"
   ]
  }
 ],
 "metadata": {
  "kernelspec": {
   "display_name": "Python 3",
   "language": "python",
   "name": "python3"
  },
  "language_info": {
   "codemirror_mode": {
    "name": "ipython",
    "version": 3
   },
   "file_extension": ".py",
   "mimetype": "text/x-python",
   "name": "python",
   "nbconvert_exporter": "python",
   "pygments_lexer": "ipython3",
   "version": "3.8.3"
  }
 },
 "nbformat": 4,
 "nbformat_minor": 4
}
