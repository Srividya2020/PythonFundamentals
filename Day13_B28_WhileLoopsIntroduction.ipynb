{
 "cells": [
  {
   "cell_type": "code",
   "execution_count": 1,
   "metadata": {},
   "outputs": [],
   "source": [
    "## While loops Introduction ##"
   ]
  },
  {
   "cell_type": "code",
   "execution_count": 2,
   "metadata": {},
   "outputs": [],
   "source": [
    "## While loops are those that gets executed until the condition gets satisfied ##"
   ]
  },
  {
   "cell_type": "code",
   "execution_count": 1,
   "metadata": {},
   "outputs": [
    {
     "name": "stdout",
     "output_type": "stream",
     "text": [
      "\n",
      "The current Number is: 10\n",
      "\n",
      "The current Number is: 11\n",
      "\n",
      "The current Number is: 12\n",
      "\n",
      "The current Number is: 13\n",
      "\n",
      "The current Number is: 14\n",
      "\n",
      "The current Number is: 15\n",
      "\n",
      "The current Number is: 16\n",
      "\n",
      "The current Number is: 17\n",
      "\n",
      "The current Number is: 18\n",
      "\n",
      "The current Number is: 19\n",
      "\n",
      "The current Number is: 20\n"
     ]
    }
   ],
   "source": [
    "Current_Num=10\n",
    "while(Current_Num<=20):\n",
    "    print(f\"\\nThe current Number is: {Current_Num}\")\n",
    "    Current_Num+=1"
   ]
  },
  {
   "cell_type": "code",
   "execution_count": 2,
   "metadata": {},
   "outputs": [],
   "source": [
    "## Introducing Breaks and Continue ##"
   ]
  },
  {
   "cell_type": "code",
   "execution_count": 5,
   "metadata": {},
   "outputs": [
    {
     "name": "stdout",
     "output_type": "stream",
     "text": [
      "\n",
      " Please Enter your age18\n",
      "\n",
      " You are eligible for license\n",
      "\n",
      " Please Enter your age6\n"
     ]
    }
   ],
   "source": [
    "Alert_Message=\"\\n Please Enter your age\"\n",
    "\n",
    "while True:\n",
    "    Number=input(Alert_Message)\n",
    "    Number=int(Number)\n",
    "    if Number <18:\n",
    "        break\n",
    "    else:\n",
    "        print(f\"\\n You are eligible for license\")       \n",
    "        "
   ]
  },
  {
   "cell_type": "code",
   "execution_count": 6,
   "metadata": {},
   "outputs": [],
   "source": [
    "## Break : Exits the program when the condition is met\n",
    "\n",
    "##  Continue: Keeps executing the program until the end ##"
   ]
  },
  {
   "cell_type": "code",
   "execution_count": 7,
   "metadata": {},
   "outputs": [],
   "source": [
    "## Example for Continue Statemen"
   ]
  },
  {
   "cell_type": "code",
   "execution_count": 21,
   "metadata": {},
   "outputs": [
    {
     "name": "stdout",
     "output_type": "stream",
     "text": [
      "1\n",
      "3\n",
      "5\n",
      "7\n",
      "9\n"
     ]
    }
   ],
   "source": [
    "current_Num=0\n",
    "while current_Num<10:\n",
    "    current_Num+=1\n",
    "    if current_Num%2==0:\n",
    "        continue\n",
    "    print(current_Num)      \n"
   ]
  },
  {
   "cell_type": "code",
   "execution_count": null,
   "metadata": {},
   "outputs": [],
   "source": [
    "## End of Day 13 ##"
   ]
  }
 ],
 "metadata": {
  "kernelspec": {
   "display_name": "Python 3",
   "language": "python",
   "name": "python3"
  },
  "language_info": {
   "codemirror_mode": {
    "name": "ipython",
    "version": 3
   },
   "file_extension": ".py",
   "mimetype": "text/x-python",
   "name": "python",
   "nbconvert_exporter": "python",
   "pygments_lexer": "ipython3",
   "version": "3.8.3"
  }
 },
 "nbformat": 4,
 "nbformat_minor": 4
}
