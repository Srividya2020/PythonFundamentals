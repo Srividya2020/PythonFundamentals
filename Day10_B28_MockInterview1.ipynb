{
 "cells": [
  {
   "cell_type": "code",
   "execution_count": 1,
   "metadata": {},
   "outputs": [],
   "source": [
    "## Mock Interview Questions ##"
   ]
  },
  {
   "cell_type": "code",
   "execution_count": null,
   "metadata": {},
   "outputs": [],
   "source": [
    "1. What is String ?\n",
    "\n",
    "Ans : String is a collection of characters. It is a mutable datatype. It can be declared using 3 ways such as single quotes('', \n",
    "      double quotes (\"\") & triple quotes (\"\"\"\"\"\")"
   ]
  },
  {
   "cell_type": "code",
   "execution_count": null,
   "metadata": {},
   "outputs": [],
   "source": [
    "2. What is the use of fstrings?\n",
    "\n",
    "Ans : fstrings are used for printing custom messages by concatinating various string values "
   ]
  },
  {
   "cell_type": "code",
   "execution_count": null,
   "metadata": {},
   "outputs": [],
   "source": [
    "3. What is List?\n",
    "\n",
    "Ans : List is a collection of items defined using [] of no particular order . This is a mutable datatype. "
   ]
  },
  {
   "cell_type": "code",
   "execution_count": null,
   "metadata": {},
   "outputs": [],
   "source": [
    "4. What is the syntax of a for loop?\n",
    "\n",
    "Ans : for <tempvariable> in <MainVariable>:\n",
    "            print(<tempvariable>)"
   ]
  },
  {
   "cell_type": "code",
   "execution_count": null,
   "metadata": {},
   "outputs": [],
   "source": [
    "5. Difference between Sort and Sorted ?\n",
    "\n",
    "Ans : Sort ==> Makes permanent changes to the list\n",
    "      Sorted ==> Makes only temporary changes to the list\n",
    "    "
   ]
  },
  {
   "cell_type": "code",
   "execution_count": null,
   "metadata": {},
   "outputs": [],
   "source": [
    "6. What is a tuple Datatype ? \n",
    "\n",
    "Ans : Tuple is immutable data type used to store values that doesnt change. This is declared using '()'"
   ]
  },
  {
   "cell_type": "code",
   "execution_count": null,
   "metadata": {},
   "outputs": [],
   "source": [
    "7. Concept of Conditional Statment?\n",
    "\n",
    "Ans : Conditional statement are those that gets executed based on a particular condition. \n",
    "      The keywords used are if, elseif & elif"
   ]
  },
  {
   "cell_type": "code",
   "execution_count": null,
   "metadata": {},
   "outputs": [],
   "source": [
    "8. What is the string method used to making the string to proper format?\n",
    "\n",
    "Ans : Title()"
   ]
  },
  {
   "cell_type": "code",
   "execution_count": null,
   "metadata": {},
   "outputs": [],
   "source": [
    "9. What is the method to get total no of elements in a list ?\n",
    "\n",
    "Ans : len(<ListName>)"
   ]
  },
  {
   "cell_type": "code",
   "execution_count": null,
   "metadata": {},
   "outputs": [],
   "source": [
    "10. What is the method to add new element in the list ?\n",
    "\n",
    "Ans : append() \n"
   ]
  },
  {
   "cell_type": "code",
   "execution_count": null,
   "metadata": {},
   "outputs": [],
   "source": [
    "11. What is the method to add an element to a particular position in the list ?\n",
    "\n",
    "Ans: insert()\n",
    "          "
   ]
  },
  {
   "cell_type": "code",
   "execution_count": null,
   "metadata": {},
   "outputs": [],
   "source": [
    "12 . What is the difference between insert() & append()?\n",
    "\n",
    "Ans : insert is used to add element at a particular position by specifying the index position \n",
    "        while \n",
    "      append methods add the new element only at the end of the list  "
   ]
  },
  {
   "cell_type": "code",
   "execution_count": null,
   "metadata": {},
   "outputs": [],
   "source": [
    "13. What is the difference bewtween list & tuple ? \n",
    "\n",
    "Ans : List is a collection of objects of no particular order that can be edited(mutable data type) \n",
    "      whereas \n",
    "      tuple is a collection of objects that cannot be edited(immutable data type)\n",
    "     "
   ]
  },
  {
   "cell_type": "code",
   "execution_count": null,
   "metadata": {},
   "outputs": [],
   "source": [
    "14 . What is dictionary?\n",
    "\n",
    "Ans : Dictionary is a datatype that is stores values as key value pairs. The key is used to access the values "
   ]
  },
  {
   "cell_type": "code",
   "execution_count": null,
   "metadata": {},
   "outputs": [],
   "source": [
    "## End of Mock Interiew1 Questions ##"
   ]
  }
 ],
 "metadata": {
  "kernelspec": {
   "display_name": "Python 3",
   "language": "python",
   "name": "python3"
  },
  "language_info": {
   "codemirror_mode": {
    "name": "ipython",
    "version": 3
   },
   "file_extension": ".py",
   "mimetype": "text/x-python",
   "name": "python",
   "nbconvert_exporter": "python",
   "pygments_lexer": "ipython3",
   "version": "3.8.3"
  }
 },
 "nbformat": 4,
 "nbformat_minor": 4
}
