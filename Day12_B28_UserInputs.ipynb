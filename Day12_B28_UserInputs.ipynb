{
 "cells": [
  {
   "cell_type": "code",
   "execution_count": 1,
   "metadata": {},
   "outputs": [],
   "source": [
    "## User Accepted Inputs##"
   ]
  },
  {
   "cell_type": "code",
   "execution_count": 2,
   "metadata": {},
   "outputs": [
    {
     "name": "stdout",
     "output_type": "stream",
     "text": [
      "Welcome! Hope you are doing greatHello\n",
      "Hello\n"
     ]
    }
   ],
   "source": [
    "Message=input(\"Welcome! Hope you are doing great\") ## Syntax to accept user inputs ##\n",
    "print(Message)"
   ]
  },
  {
   "cell_type": "code",
   "execution_count": 6,
   "metadata": {},
   "outputs": [
    {
     "name": "stdout",
     "output_type": "stream",
     "text": [
      "Hello!Good morning!\n",
      " Please enter your first name Srividya\n",
      "\n",
      " Hi!! Srividya\n"
     ]
    }
   ],
   "source": [
    "WelcomeMessage=\"Hello!Good morning!\"\n",
    "WelcomeMessage +=\"\\n Please enter your first name\" ## This statement appends the custsom message ##\n",
    "PrintMessage=input(WelcomeMessage) ## This statemet prompts for the welcome message ##\n",
    "print(f\"\\n Hi!!{PrintMessage}\") ## This statement prints the message along with the user provied input value ##"
   ]
  },
  {
   "cell_type": "code",
   "execution_count": 7,
   "metadata": {},
   "outputs": [],
   "source": [
    "## Type Casting of DataTypes ##"
   ]
  },
  {
   "cell_type": "code",
   "execution_count": null,
   "metadata": {},
   "outputs": [],
   "source": [
    "## Type casting is important as the input messages are defaulted to String datatypes ##"
   ]
  },
  {
   "cell_type": "code",
   "execution_count": 10,
   "metadata": {},
   "outputs": [
    {
     "name": "stdout",
     "output_type": "stream",
     "text": [
      "Please enter your Age17\n"
     ]
    },
    {
     "ename": "TypeError",
     "evalue": "'>=' not supported between instances of 'str' and 'int'",
     "output_type": "error",
     "traceback": [
      "\u001b[1;31m---------------------------------------------------------------------------\u001b[0m",
      "\u001b[1;31mTypeError\u001b[0m                                 Traceback (most recent call last)",
      "\u001b[1;32m<ipython-input-10-409a2fe305d5>\u001b[0m in \u001b[0;36m<module>\u001b[1;34m\u001b[0m\n\u001b[0;32m      1\u001b[0m \u001b[0mAge\u001b[0m\u001b[1;33m=\u001b[0m\u001b[0minput\u001b[0m\u001b[1;33m(\u001b[0m\u001b[1;34m\"Please enter your Age\"\u001b[0m\u001b[1;33m)\u001b[0m\u001b[1;33m\u001b[0m\u001b[1;33m\u001b[0m\u001b[0m\n\u001b[1;32m----> 2\u001b[1;33m \u001b[1;32mif\u001b[0m \u001b[0mAge\u001b[0m\u001b[1;33m>=\u001b[0m\u001b[1;36m18\u001b[0m\u001b[1;33m:\u001b[0m\u001b[1;33m\u001b[0m\u001b[1;33m\u001b[0m\u001b[0m\n\u001b[0m\u001b[0;32m      3\u001b[0m     \u001b[0mprint\u001b[0m\u001b[1;33m(\u001b[0m\u001b[1;34m\"You are eligible for admission\"\u001b[0m\u001b[1;33m)\u001b[0m\u001b[1;33m\u001b[0m\u001b[1;33m\u001b[0m\u001b[0m\n",
      "\u001b[1;31mTypeError\u001b[0m: '>=' not supported between instances of 'str' and 'int'"
     ]
    }
   ],
   "source": [
    "Age=input(\"Please enter your Age\")\n",
    "if Age>=18:\n",
    "    print(\"You are eligible for admission\") # The code returns error as the age is not a integer ##"
   ]
  },
  {
   "cell_type": "code",
   "execution_count": 11,
   "metadata": {},
   "outputs": [
    {
     "data": {
      "text/plain": [
       "str"
      ]
     },
     "execution_count": 11,
     "metadata": {},
     "output_type": "execute_result"
    }
   ],
   "source": [
    "type(Age) # The default value for Age data type is string ##"
   ]
  },
  {
   "cell_type": "code",
   "execution_count": 1,
   "metadata": {},
   "outputs": [],
   "source": [
    "## Type casting is done to convert the variable from one data type to another##"
   ]
  },
  {
   "cell_type": "code",
   "execution_count": 4,
   "metadata": {},
   "outputs": [
    {
     "name": "stdout",
     "output_type": "stream",
     "text": [
      "Please enter your Age21\n",
      "\n",
      " Congrats!! You are eligible for admission\n"
     ]
    }
   ],
   "source": [
    "CurrentAge=input(\"Please enter your Age\")\n",
    "CurrentAge=int(CurrentAge) ## Type casting the daata type from string to integer\n",
    "if CurrentAge>=18:\n",
    "    print(\"\\n Congrats!! You are eligible for admission\") \n",
    "else:\n",
    "    print(\"\\n I'm Sorry!! You are not eligible for admission this year! Please get back when you are 18!\")"
   ]
  },
  {
   "cell_type": "code",
   "execution_count": 5,
   "metadata": {},
   "outputs": [],
   "source": [
    "## Modulo Operator ##\n",
    "\n",
    "## This operator is denoted by \"%\" and the returns the remainder##"
   ]
  },
  {
   "cell_type": "code",
   "execution_count": 7,
   "metadata": {},
   "outputs": [
    {
     "data": {
      "text/plain": [
       "1"
      ]
     },
     "execution_count": 7,
     "metadata": {},
     "output_type": "execute_result"
    }
   ],
   "source": [
    "4%3 ## This statement returns the remainder of the division operation ##"
   ]
  },
  {
   "cell_type": "code",
   "execution_count": 8,
   "metadata": {},
   "outputs": [
    {
     "data": {
      "text/plain": [
       "0"
      ]
     },
     "execution_count": 8,
     "metadata": {},
     "output_type": "execute_result"
    }
   ],
   "source": [
    "6%3 ## This retuns the reminder 0 ##"
   ]
  },
  {
   "cell_type": "code",
   "execution_count": 10,
   "metadata": {},
   "outputs": [
    {
     "data": {
      "text/plain": [
       "2.0"
      ]
     },
     "execution_count": 10,
     "metadata": {},
     "output_type": "execute_result"
    }
   ],
   "source": [
    "6/3"
   ]
  },
  {
   "cell_type": "code",
   "execution_count": 11,
   "metadata": {},
   "outputs": [],
   "source": [
    "## Requirement to check if the given number is a even or a odd number ##"
   ]
  },
  {
   "cell_type": "code",
   "execution_count": 14,
   "metadata": {},
   "outputs": [
    {
     "name": "stdout",
     "output_type": "stream",
     "text": [
      "Enter any Number of your Choice15\n",
      "\n",
      " The given input number 15 is an odd number\n"
     ]
    }
   ],
   "source": [
    "NumberCheck=input(\"Enter any Number of your Choice\")\n",
    "NumberCheck=int(NumberCheck)\n",
    "if NumberCheck%2==0:\n",
    "    print(f\"\\n The given input number {NumberCheck} is an even number\")\n",
    "else:\n",
    "    print(f\"\\n The given input number {NumberCheck} is an odd number\")"
   ]
  },
  {
   "cell_type": "code",
   "execution_count": 15,
   "metadata": {},
   "outputs": [
    {
     "name": "stdout",
     "output_type": "stream",
     "text": [
      "Enter any Number of your Choice1111114\n",
      "\n",
      " The given input number 1111114 is an even number\n"
     ]
    }
   ],
   "source": [
    "NumberCheck=input(\"Enter any Number of your Choice\")\n",
    "NumberCheck=int(NumberCheck)\n",
    "if NumberCheck%2==0:\n",
    "    print(f\"\\n The given input number {NumberCheck} is an even number\")\n",
    "else:\n",
    "    print(f\"\\n The given input number {NumberCheck} is an odd number\")"
   ]
  },
  {
   "cell_type": "code",
   "execution_count": 16,
   "metadata": {},
   "outputs": [],
   "source": [
    "## End of Day 12 ##"
   ]
  },
  {
   "cell_type": "code",
   "execution_count": null,
   "metadata": {},
   "outputs": [],
   "source": []
  }
 ],
 "metadata": {
  "kernelspec": {
   "display_name": "Python 3",
   "language": "python",
   "name": "python3"
  },
  "language_info": {
   "codemirror_mode": {
    "name": "ipython",
    "version": 3
   },
   "file_extension": ".py",
   "mimetype": "text/x-python",
   "name": "python",
   "nbconvert_exporter": "python",
   "pygments_lexer": "ipython3",
   "version": "3.8.3"
  }
 },
 "nbformat": 4,
 "nbformat_minor": 4
}
