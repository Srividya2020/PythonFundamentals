{
 "cells": [
  {
   "cell_type": "code",
   "execution_count": 3,
   "metadata": {},
   "outputs": [],
   "source": [
    "## Dictionary Datatype is a combination of Key value Pairs#\n",
    "\n",
    "## Dictionary is a Mutable datatype defined using  { } ##\n",
    "\n",
    "## This data type is mostly used for defining real world objects such as user id; passwords ##"
   ]
  },
  {
   "cell_type": "code",
   "execution_count": 8,
   "metadata": {},
   "outputs": [],
   "source": [
    "# Defining a dictionary variable ##\n",
    "\n",
    "UserDetails= {'FirstName':'fname', 'LastName':'lname' , 'DOB':'1/1/2000', 'EmailID':'xyz@gmail.com'}"
   ]
  },
  {
   "cell_type": "code",
   "execution_count": 9,
   "metadata": {},
   "outputs": [
    {
     "name": "stdout",
     "output_type": "stream",
     "text": [
      "{'FirstName': 'fname', 'LastName': 'lname', 'DOB': '1/1/2000', 'EmailID': 'xyz@gmail.com'}\n"
     ]
    }
   ],
   "source": [
    "print(UserDetails) ## Printing a dictionary Datatype ##"
   ]
  },
  {
   "cell_type": "code",
   "execution_count": 11,
   "metadata": {},
   "outputs": [
    {
     "data": {
      "text/plain": [
       "dict"
      ]
     },
     "execution_count": 11,
     "metadata": {},
     "output_type": "execute_result"
    }
   ],
   "source": [
    "type(UserDetails) ## Get the datatype for the defined variable ##"
   ]
  },
  {
   "cell_type": "code",
   "execution_count": 12,
   "metadata": {},
   "outputs": [],
   "source": [
    "## Accessing a value from Dict datatype ##"
   ]
  },
  {
   "cell_type": "code",
   "execution_count": 13,
   "metadata": {},
   "outputs": [
    {
     "name": "stdout",
     "output_type": "stream",
     "text": [
      "lname\n"
     ]
    }
   ],
   "source": [
    "print(UserDetails['LastName']) # The value is retrieved using the Key defined for the value ##"
   ]
  },
  {
   "cell_type": "code",
   "execution_count": 14,
   "metadata": {},
   "outputs": [
    {
     "ename": "KeyError",
     "evalue": "'lname'",
     "output_type": "error",
     "traceback": [
      "\u001b[1;31m---------------------------------------------------------------------------\u001b[0m",
      "\u001b[1;31mKeyError\u001b[0m                                  Traceback (most recent call last)",
      "\u001b[1;32m<ipython-input-14-ebc1a11b7486>\u001b[0m in \u001b[0;36m<module>\u001b[1;34m\u001b[0m\n\u001b[1;32m----> 1\u001b[1;33m \u001b[0mprint\u001b[0m\u001b[1;33m(\u001b[0m\u001b[0mUserDetails\u001b[0m\u001b[1;33m[\u001b[0m\u001b[1;34m'lname'\u001b[0m\u001b[1;33m]\u001b[0m\u001b[1;33m)\u001b[0m\u001b[1;33m\u001b[0m\u001b[1;33m\u001b[0m\u001b[0m\n\u001b[0m",
      "\u001b[1;31mKeyError\u001b[0m: 'lname'"
     ]
    }
   ],
   "source": [
    "print(UserDetails['lname']) ## Not possible to get the key using the value and hence the below statement gives error ##"
   ]
  },
  {
   "cell_type": "code",
   "execution_count": 15,
   "metadata": {},
   "outputs": [],
   "source": [
    "## To insert a new key value pair to the Dict Datatype variable"
   ]
  },
  {
   "cell_type": "code",
   "execution_count": 16,
   "metadata": {},
   "outputs": [],
   "source": [
    "UserDetails['PhoneNumber']='0123456789'"
   ]
  },
  {
   "cell_type": "code",
   "execution_count": 17,
   "metadata": {},
   "outputs": [
    {
     "name": "stdout",
     "output_type": "stream",
     "text": [
      "{'FirstName': 'fname', 'LastName': 'lname', 'DOB': '1/1/2000', 'EmailID': 'xyz@gmail.com', 'PhoneNumber': '0123456789'}\n"
     ]
    }
   ],
   "source": [
    "print(UserDetails) ## The newly added Key value pair gets added to the last of the Dict datatype ##"
   ]
  },
  {
   "cell_type": "code",
   "execution_count": 18,
   "metadata": {},
   "outputs": [],
   "source": [
    "## To edit the value of the Key in the Dict DataType ##"
   ]
  },
  {
   "cell_type": "code",
   "execution_count": 23,
   "metadata": {},
   "outputs": [],
   "source": [
    "UserDetails['EmailID']='abc@gmail.com'"
   ]
  },
  {
   "cell_type": "code",
   "execution_count": 24,
   "metadata": {},
   "outputs": [
    {
     "name": "stdout",
     "output_type": "stream",
     "text": [
      "{'FirstName': 'fname', 'LastName': 'lname', 'DOB': '1/1/2000', 'EmailID': 'abc@gmail.com', 'PhoneNumber': '0123456789', 'EmailId': 'abc@gmail.com'}\n"
     ]
    }
   ],
   "source": [
    "print(UserDetails) ## EmailID value is updated in the Dict DataType##"
   ]
  },
  {
   "cell_type": "code",
   "execution_count": 25,
   "metadata": {},
   "outputs": [],
   "source": [
    "## To Delete an element from Dict using the Key ##"
   ]
  },
  {
   "cell_type": "code",
   "execution_count": 31,
   "metadata": {},
   "outputs": [],
   "source": [
    "del UserDetails['EmailID'] ## This statment deletes the EmailID##"
   ]
  },
  {
   "cell_type": "code",
   "execution_count": 32,
   "metadata": {},
   "outputs": [
    {
     "name": "stdout",
     "output_type": "stream",
     "text": [
      "{'FirstName': 'fname', 'LastName': 'lname', 'DOB': '1/1/2000', 'PhoneNumber': '0123456789'}\n"
     ]
    }
   ],
   "source": [
    "print(UserDetails) "
   ]
  },
  {
   "cell_type": "code",
   "execution_count": null,
   "metadata": {},
   "outputs": [],
   "source": [
    "### End of Day 9 ##"
   ]
  }
 ],
 "metadata": {
  "kernelspec": {
   "display_name": "Python 3",
   "language": "python",
   "name": "python3"
  },
  "language_info": {
   "codemirror_mode": {
    "name": "ipython",
    "version": 3
   },
   "file_extension": ".py",
   "mimetype": "text/x-python",
   "name": "python",
   "nbconvert_exporter": "python",
   "pygments_lexer": "ipython3",
   "version": "3.8.3"
  }
 },
 "nbformat": 4,
 "nbformat_minor": 4
}
