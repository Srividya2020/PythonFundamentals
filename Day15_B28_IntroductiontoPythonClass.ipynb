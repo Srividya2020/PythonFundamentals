{
 "cells": [
  {
   "cell_type": "code",
   "execution_count": 1,
   "metadata": {},
   "outputs": [],
   "source": [
    "## Introductio to Python Classes ##"
   ]
  },
  {
   "cell_type": "code",
   "execution_count": 2,
   "metadata": {},
   "outputs": [],
   "source": [
    "## 5 Important Concepts##\n",
    "\n",
    "## 1. Class ==> Blueprint of the program \n",
    "## 2. Method ==> A function that is coded inside a class\n",
    "## 3. Attribute ==> A variable written within a class method\n",
    "## 4. Self ==> A temporary place holder for an object\n",
    "## 5. Object/Instance ==>An access point to a Class"
   ]
  },
  {
   "cell_type": "code",
   "execution_count": 4,
   "metadata": {},
   "outputs": [],
   "source": [
    "## Req. to create a Greeting Class!! ##\n",
    "\n",
    "## 1. The class needs to accept nout from the user\n",
    "## 2. The class should display name\n",
    "## 3. Greet the user with the given input name"
   ]
  },
  {
   "cell_type": "code",
   "execution_count": 23,
   "metadata": {},
   "outputs": [],
   "source": [
    "class Greeting: ## Declaring a class\n",
    "    \"\"\"Creating a Greeting Class\"\"\"\n",
    "\n",
    "    def createname(self,name): # Method 1\n",
    "        self.name=name # Attribute\n",
    "    \n",
    "    def display(self):# Method2 to print the name\n",
    "        print(self.name)\n",
    "\n",
    "    def Greet(self):\n",
    "        print(f\"Welcome,{self.name}\")"
   ]
  },
  {
   "cell_type": "code",
   "execution_count": 24,
   "metadata": {},
   "outputs": [],
   "source": [
    "## Object Creation & Assiging to the class\n",
    "\n",
    "xobj=Greeting() # object is assigned to the class"
   ]
  },
  {
   "cell_type": "code",
   "execution_count": 25,
   "metadata": {},
   "outputs": [],
   "source": [
    "xobj.createname('Sri') # Obj.Method1\n",
    "\n",
    "##print(dir(Greeting))"
   ]
  },
  {
   "cell_type": "code",
   "execution_count": 26,
   "metadata": {},
   "outputs": [
    {
     "name": "stdout",
     "output_type": "stream",
     "text": [
      "Sri\n"
     ]
    }
   ],
   "source": [
    "xobj.display() # Obj.Method2"
   ]
  },
  {
   "cell_type": "code",
   "execution_count": 27,
   "metadata": {},
   "outputs": [
    {
     "name": "stdout",
     "output_type": "stream",
     "text": [
      "Welcome,Sri\n"
     ]
    }
   ],
   "source": [
    "xobj.Greet() # Obj.Method3"
   ]
  },
  {
   "cell_type": "code",
   "execution_count": null,
   "metadata": {},
   "outputs": [],
   "source": [
    "## End of Day 15 ##"
   ]
  }
 ],
 "metadata": {
  "kernelspec": {
   "display_name": "Python 3",
   "language": "python",
   "name": "python3"
  },
  "language_info": {
   "codemirror_mode": {
    "name": "ipython",
    "version": 3
   },
   "file_extension": ".py",
   "mimetype": "text/x-python",
   "name": "python",
   "nbconvert_exporter": "python",
   "pygments_lexer": "ipython3",
   "version": "3.8.3"
  }
 },
 "nbformat": 4,
 "nbformat_minor": 4
}
