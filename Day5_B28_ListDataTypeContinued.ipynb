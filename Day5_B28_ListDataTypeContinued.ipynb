{
 "cells": [
  {
   "cell_type": "code",
   "execution_count": 1,
   "metadata": {},
   "outputs": [],
   "source": [
    "## Organising the List ##"
   ]
  },
  {
   "cell_type": "code",
   "execution_count": 2,
   "metadata": {},
   "outputs": [],
   "source": [
    "My_Colors=[\"Red\",\"Green\",\"Yellow\",\"Blue\",\"Pink\",\"Orange\",\"Violet\",\"Indigo\"]"
   ]
  },
  {
   "cell_type": "code",
   "execution_count": 4,
   "metadata": {},
   "outputs": [
    {
     "name": "stdout",
     "output_type": "stream",
     "text": [
      "['Red', 'Green', 'Yellow', 'Blue', 'Pink', 'Orange', 'Violet', 'Indigo']\n"
     ]
    }
   ],
   "source": [
    "print(My_Colors)"
   ]
  },
  {
   "cell_type": "code",
   "execution_count": 10,
   "metadata": {},
   "outputs": [
    {
     "name": "stdout",
     "output_type": "stream",
     "text": [
      "['Blue', 'Green', 'Indigo', 'Orange', 'Pink', 'Red', 'Violet', 'Yellow']\n"
     ]
    }
   ],
   "source": [
    "print(sorted(My_Colors)) # Sorts the list elemets in ascending order A to Z ##"
   ]
  },
  {
   "cell_type": "code",
   "execution_count": 11,
   "metadata": {},
   "outputs": [
    {
     "name": "stdout",
     "output_type": "stream",
     "text": [
      "['Red', 'Green', 'Yellow', 'Blue', 'Pink', 'Orange', 'Violet', 'Indigo']\n"
     ]
    }
   ],
   "source": [
    "print(My_Colors) # Printing the list after using 'sorted' function still gives the output as it was declared originally ##"
   ]
  },
  {
   "cell_type": "code",
   "execution_count": 12,
   "metadata": {},
   "outputs": [],
   "source": [
    "My_Colors.sort() # Permanently sorts the list in ascending order ##"
   ]
  },
  {
   "cell_type": "code",
   "execution_count": 13,
   "metadata": {},
   "outputs": [
    {
     "name": "stdout",
     "output_type": "stream",
     "text": [
      "['Blue', 'Green', 'Indigo', 'Orange', 'Pink', 'Red', 'Violet', 'Yellow']\n"
     ]
    }
   ],
   "source": [
    "print(My_Colors) # The printing of list after sort function gives us the updated list after sorting #"
   ]
  },
  {
   "cell_type": "code",
   "execution_count": 14,
   "metadata": {},
   "outputs": [],
   "source": [
    "## To Print the list in reverse order ##"
   ]
  },
  {
   "cell_type": "code",
   "execution_count": 17,
   "metadata": {},
   "outputs": [],
   "source": [
    "My_Colors.reverse()"
   ]
  },
  {
   "cell_type": "code",
   "execution_count": 18,
   "metadata": {},
   "outputs": [
    {
     "name": "stdout",
     "output_type": "stream",
     "text": [
      "['Yellow', 'Violet', 'Red', 'Pink', 'Orange', 'Indigo', 'Green', 'Blue']\n"
     ]
    }
   ],
   "source": [
    "print(My_Colors) ## Prints the list elements in descending order ##"
   ]
  },
  {
   "cell_type": "code",
   "execution_count": 19,
   "metadata": {},
   "outputs": [],
   "source": [
    "## 2. To get total elements in the list ##"
   ]
  },
  {
   "cell_type": "code",
   "execution_count": 20,
   "metadata": {},
   "outputs": [
    {
     "data": {
      "text/plain": [
       "8"
      ]
     },
     "execution_count": 20,
     "metadata": {},
     "output_type": "execute_result"
    }
   ],
   "source": [
    "len(My_Colors) # Gives the length - No: Of elements in the list ##"
   ]
  },
  {
   "cell_type": "code",
   "execution_count": 21,
   "metadata": {},
   "outputs": [],
   "source": [
    "## 3. Slicing Lists into multiple sub-lists##"
   ]
  },
  {
   "cell_type": "code",
   "execution_count": 22,
   "metadata": {},
   "outputs": [],
   "source": [
    "##  General Syntax [StartValue:StopValue:StepCount]"
   ]
  },
  {
   "cell_type": "code",
   "execution_count": 23,
   "metadata": {},
   "outputs": [],
   "source": [
    "## Start Value denoted the starting index position from which the slicing has to happen ##\n",
    "## Stop value denotes the position of the element, not the index values. This can typically be <index position - 1> ##"
   ]
  },
  {
   "cell_type": "code",
   "execution_count": 25,
   "metadata": {},
   "outputs": [
    {
     "name": "stdout",
     "output_type": "stream",
     "text": [
      "['Yellow', 'Violet']\n"
     ]
    }
   ],
   "source": [
    "print(My_Colors[0:2]) # Prints element from index value 0 to the 2nd element in the list #"
   ]
  },
  {
   "cell_type": "code",
   "execution_count": 27,
   "metadata": {},
   "outputs": [
    {
     "name": "stdout",
     "output_type": "stream",
     "text": [
      "['Red', 'Pink']\n"
     ]
    }
   ],
   "source": [
    "print(My_Colors[2:4]) # Prints element from index value 2 to the 4th element in the list/index value (4-1) #"
   ]
  },
  {
   "cell_type": "code",
   "execution_count": 29,
   "metadata": {},
   "outputs": [
    {
     "name": "stdout",
     "output_type": "stream",
     "text": [
      "['Orange', 'Indigo']\n"
     ]
    }
   ],
   "source": [
    "print(My_Colors[4:6])"
   ]
  },
  {
   "cell_type": "code",
   "execution_count": 30,
   "metadata": {},
   "outputs": [
    {
     "name": "stdout",
     "output_type": "stream",
     "text": [
      "['Green', 'Blue']\n"
     ]
    }
   ],
   "source": [
    "print(My_Colors[6:8])"
   ]
  },
  {
   "cell_type": "code",
   "execution_count": 31,
   "metadata": {},
   "outputs": [],
   "source": [
    "## To access elements using step values like alternate numbers##"
   ]
  },
  {
   "cell_type": "code",
   "execution_count": 36,
   "metadata": {},
   "outputs": [
    {
     "name": "stdout",
     "output_type": "stream",
     "text": [
      "['Yellow', 'Red', 'Orange', 'Green']\n"
     ]
    }
   ],
   "source": [
    "print(My_Colors[0:7:2])"
   ]
  },
  {
   "cell_type": "code",
   "execution_count": null,
   "metadata": {},
   "outputs": [],
   "source": [
    "## End of Day 5 ##"
   ]
  }
 ],
 "metadata": {
  "kernelspec": {
   "display_name": "Python 3",
   "language": "python",
   "name": "python3"
  },
  "language_info": {
   "codemirror_mode": {
    "name": "ipython",
    "version": 3
   },
   "file_extension": ".py",
   "mimetype": "text/x-python",
   "name": "python",
   "nbconvert_exporter": "python",
   "pygments_lexer": "ipython3",
   "version": "3.8.3"
  }
 },
 "nbformat": 4,
 "nbformat_minor": 4
}
