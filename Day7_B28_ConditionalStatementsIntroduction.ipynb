{
 "cells": [
  {
   "cell_type": "code",
   "execution_count": 1,
   "metadata": {},
   "outputs": [],
   "source": [
    "## Introduction to Conditional Statements ##"
   ]
  },
  {
   "cell_type": "code",
   "execution_count": 2,
   "metadata": {},
   "outputs": [],
   "source": [
    "## If, else, elif ##"
   ]
  },
  {
   "cell_type": "code",
   "execution_count": 3,
   "metadata": {},
   "outputs": [],
   "source": [
    "## Case Study: Usage of if else statement ##"
   ]
  },
  {
   "cell_type": "code",
   "execution_count": 16,
   "metadata": {},
   "outputs": [
    {
     "name": "stdout",
     "output_type": "stream",
     "text": [
      "The candidate is a Beginner\n"
     ]
    }
   ],
   "source": [
    "YearsOfExperience =1  ## The below statement executes the if block and returns the result#\n",
    "if YearsOfExperience==1:\n",
    "    print(\"The candidate is a Beginner\")\n",
    "else:\n",
    "    print(\"The candidate is not a beginner\")"
   ]
  },
  {
   "cell_type": "code",
   "execution_count": 17,
   "metadata": {},
   "outputs": [
    {
     "name": "stdout",
     "output_type": "stream",
     "text": [
      "The candidate is not a beginner\n"
     ]
    }
   ],
   "source": [
    "YearsOfExperience =2  ## The below statement executes else block and returns the appropriate result#\n",
    "if YearsOfExperience==1:\n",
    "    print(\"The candidate is a Beginner\")\n",
    "else:\n",
    "    print(\"The candidate is not a beginner\")"
   ]
  },
  {
   "cell_type": "code",
   "execution_count": 12,
   "metadata": {},
   "outputs": [],
   "source": [
    "## Case Study: Usage of if else elif statement ##"
   ]
  },
  {
   "cell_type": "code",
   "execution_count": 19,
   "metadata": {},
   "outputs": [
    {
     "name": "stdout",
     "output_type": "stream",
     "text": [
      "The candidate is at advanced Level\n"
     ]
    }
   ],
   "source": [
    "YearsOfExperience =5  \n",
    "if YearsOfExperience==1:\n",
    "    print(\"The candidate is a Beginner\")\n",
    "elif YearsOfExperience==2:\n",
    "    print(\"The candidate is at intermediate Level\")\n",
    "elif YearsOfExperience==5:\n",
    "    print(\"The candidate is at advanced Level\")\n",
    "elif YearsOfExperience>=8:\n",
    "    print(\"The candidate is an Expert\")"
   ]
  },
  {
   "cell_type": "code",
   "execution_count": 23,
   "metadata": {},
   "outputs": [
    {
     "name": "stdout",
     "output_type": "stream",
     "text": [
      "The candidate is an Expert\n"
     ]
    }
   ],
   "source": [
    "YearsOfExperience =10  \n",
    "if YearsOfExperience==1:\n",
    "    print(\"The candidate is a Beginner\")\n",
    "elif YearsOfExperience==2:\n",
    "    print(\"The candidate is at intermediate Level\")\n",
    "elif YearsOfExperience==5:\n",
    "    print(\"The candidate is at advanced Level\")\n",
    "else : \n",
    "    print(\"The candidate is an Expert\")"
   ]
  },
  {
   "cell_type": "code",
   "execution_count": null,
   "metadata": {},
   "outputs": [],
   "source": [
    "## End of Day 7 ##"
   ]
  }
 ],
 "metadata": {
  "kernelspec": {
   "display_name": "Python 3",
   "language": "python",
   "name": "python3"
  },
  "language_info": {
   "codemirror_mode": {
    "name": "ipython",
    "version": 3
   },
   "file_extension": ".py",
   "mimetype": "text/x-python",
   "name": "python",
   "nbconvert_exporter": "python",
   "pygments_lexer": "ipython3",
   "version": "3.8.3"
  }
 },
 "nbformat": 4,
 "nbformat_minor": 4
}
