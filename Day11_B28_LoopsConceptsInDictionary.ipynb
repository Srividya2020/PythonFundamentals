{
 "cells": [
  {
   "cell_type": "code",
   "execution_count": 1,
   "metadata": {},
   "outputs": [],
   "source": [
    "## Implementation of Loops with Dictionaries Datatype ##"
   ]
  },
  {
   "cell_type": "code",
   "execution_count": 2,
   "metadata": {},
   "outputs": [],
   "source": [
    "Fav_Language= {'User1':'Python', 'User2':'.Net', 'User3':'Java','Uesr4':'C++', 'User5':'SQL'} # Declaring a Dict datatype ##"
   ]
  },
  {
   "cell_type": "code",
   "execution_count": 3,
   "metadata": {},
   "outputs": [
    {
     "name": "stdout",
     "output_type": "stream",
     "text": [
      "{'User1': 'Python', 'User2': '.Net', 'User3': 'Java', 'Uesr4': 'C++', 'User5': 'SQL'}\n"
     ]
    }
   ],
   "source": [
    "print(Fav_Language)"
   ]
  },
  {
   "cell_type": "code",
   "execution_count": 4,
   "metadata": {},
   "outputs": [
    {
     "data": {
      "text/plain": [
       "dict"
      ]
     },
     "execution_count": 4,
     "metadata": {},
     "output_type": "execute_result"
    }
   ],
   "source": [
    "type(Fav_Language)"
   ]
  },
  {
   "cell_type": "code",
   "execution_count": 5,
   "metadata": {},
   "outputs": [],
   "source": [
    "## For loop implementataion in Dict ##"
   ]
  },
  {
   "cell_type": "code",
   "execution_count": 6,
   "metadata": {},
   "outputs": [],
   "source": [
    "## General Syntax ##\n",
    "\n",
    "for <tempvar1>,<tempvar2> in mainvariable.items():\n",
    "    print(<tempvar1>)\n",
    "    print(<tempvar2>)"
   ]
  },
  {
   "cell_type": "code",
   "execution_count": 7,
   "metadata": {},
   "outputs": [
    {
     "name": "stdout",
     "output_type": "stream",
     "text": [
      "User1\n",
      "Python\n",
      "User2\n",
      ".Net\n",
      "User3\n",
      "Java\n",
      "Uesr4\n",
      "C++\n",
      "User5\n",
      "SQL\n"
     ]
    }
   ],
   "source": [
    "for key,value in Fav_Language.items(): ## looping through each items in dict data type and printing the sme\n",
    "    print(key)\n",
    "    print(value)"
   ]
  },
  {
   "cell_type": "code",
   "execution_count": 8,
   "metadata": {},
   "outputs": [],
   "source": [
    "## To format the output for better readability##"
   ]
  },
  {
   "cell_type": "code",
   "execution_count": 12,
   "metadata": {},
   "outputs": [
    {
     "name": "stdout",
     "output_type": "stream",
     "text": [
      "\n",
      "Key: User1\n",
      "value: Python\n",
      "\n",
      "Key: User2\n",
      "value: .Net\n",
      "\n",
      "Key: User3\n",
      "value: Java\n",
      "\n",
      "Key: Uesr4\n",
      "value: C++\n",
      "\n",
      "Key: User5\n",
      "value: SQL\n"
     ]
    }
   ],
   "source": [
    "for k,v in Fav_Language.items(): ## looping through each items in dict data type and printing the same##\n",
    "    print(f\"\\nKey: {k}\")\n",
    "    print(f\"value: {v}\")"
   ]
  },
  {
   "cell_type": "code",
   "execution_count": 14,
   "metadata": {},
   "outputs": [
    {
     "name": "stdout",
     "output_type": "stream",
     "text": [
      " User1's favourite language is: Python\n",
      " User2's favourite language is: .Net\n",
      " User3's favourite language is: Java\n",
      " Uesr4's favourite language is: C++\n",
      " User5's favourite language is: Sql\n"
     ]
    }
   ],
   "source": [
    "for name,lang in Fav_Language.items(): ## Printing using customized messages for each element in dic ## \n",
    "    print(f\" {name.title()}'s favourite language is: {lang.title()}\")"
   ]
  },
  {
   "cell_type": "code",
   "execution_count": 15,
   "metadata": {},
   "outputs": [],
   "source": [
    "## Looping through all the keys in dict ##"
   ]
  },
  {
   "cell_type": "code",
   "execution_count": 16,
   "metadata": {},
   "outputs": [
    {
     "name": "stdout",
     "output_type": "stream",
     "text": [
      "User1\n",
      "User2\n",
      "User3\n",
      "Uesr4\n",
      "User5\n"
     ]
    }
   ],
   "source": [
    "for eachKey in Fav_Language.keys(): ## Get all the keys in a dict ##\n",
    "    print(eachKey)"
   ]
  },
  {
   "cell_type": "code",
   "execution_count": 17,
   "metadata": {},
   "outputs": [
    {
     "name": "stdout",
     "output_type": "stream",
     "text": [
      "Python\n",
      ".Net\n",
      "Java\n",
      "C++\n",
      "SQL\n"
     ]
    }
   ],
   "source": [
    "for eachValue in Fav_Language.values(): ## Get all the values in a dict ##\n",
    "    print(eachValue)"
   ]
  },
  {
   "cell_type": "code",
   "execution_count": null,
   "metadata": {},
   "outputs": [],
   "source": [
    "## End of Day 11 ##"
   ]
  }
 ],
 "metadata": {
  "kernelspec": {
   "display_name": "Python 3",
   "language": "python",
   "name": "python3"
  },
  "language_info": {
   "codemirror_mode": {
    "name": "ipython",
    "version": 3
   },
   "file_extension": ".py",
   "mimetype": "text/x-python",
   "name": "python",
   "nbconvert_exporter": "python",
   "pygments_lexer": "ipython3",
   "version": "3.8.3"
  }
 },
 "nbformat": 4,
 "nbformat_minor": 4
}
